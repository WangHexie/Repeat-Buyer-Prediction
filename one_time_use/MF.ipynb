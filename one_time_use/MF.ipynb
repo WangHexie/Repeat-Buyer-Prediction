{
  "cells": [
    {
      "cell_type": "code",
      "execution_count": 2,
      "metadata": {
        "pycharm": {}
      },
      "outputs": [],
      "source": [
        "import numpy as np\n",
        "import pandas as pd\n",
        "import os\n",
        "from basic_function import get_train_log, choose_logs_in_train_and_test, get_root_path\n",
        "from collections import OrderedDict\n",
        "from sklearn.decomposition import NMF"
      ]
    },
    {
      "cell_type": "code",
      "execution_count": 2,
      "metadata": {
        "pycharm": {}
      },
      "outputs": [],
      "source": [
        "name_list \u003d [\"user_id\",\"seller_id\"]"
      ]
    },
    {
      "cell_type": "code",
      "execution_count": 3,
      "metadata": {
        "pycharm": {}
      },
      "outputs": [],
      "source": [
        "logs \u003d get_train_log(None)\n",
        "logs \u003d logs[logs[\"action_type\"] \u003d\u003d 2][[\"user_id\", \"seller_id\"]]"
      ]
    },
    {
      "cell_type": "code",
      "execution_count": 4,
      "metadata": {
        "pycharm": {}
      },
      "outputs": [],
      "source": [
        "# logs \u003d choose_logs_in_train_and_test(logs\u003dlogs, entity\u003d\"user_id\")"
      ]
    },
    {
      "cell_type": "code",
      "execution_count": 5,
      "metadata": {
        "pycharm": {}
      },
      "outputs": [],
      "source": [
        "replace \u003d OrderedDict({name_list[i]: OrderedDict(\n",
        "    zip(set(logs.loc[:, name_list[i]].values), list(range(len(set(logs.loc[:, name_list[i]].values)))))) for i in range(len(name_list))})"
      ]
    },
    {
      "cell_type": "code",
      "execution_count": 6,
      "metadata": {
        "pycharm": {}
      },
      "outputs": [],
      "source": [
        "for i in range(len(name_list)):\n",
        "    logs[name_list[i]] \u003d logs[name_list[i]].map(replace[name_list[i]])"
      ]
    },
    {
      "cell_type": "code",
      "execution_count": 7,
      "metadata": {
        "pycharm": {}
      },
      "outputs": [
        {
          "data": {
            "text/html": [
              "\u003cdiv\u003e\n",
              "\u003cstyle scoped\u003e\n",
              "    .dataframe tbody tr th:only-of-type {\n",
              "        vertical-align: middle;\n",
              "    }\n",
              "\n",
              "    .dataframe tbody tr th {\n",
              "        vertical-align: top;\n",
              "    }\n",
              "\n",
              "    .dataframe thead th {\n",
              "        text-align: right;\n",
              "    }\n",
              "\u003c/style\u003e\n",
              "\u003ctable border\u003d\"1\" class\u003d\"dataframe\"\u003e\n",
              "  \u003cthead\u003e\n",
              "    \u003ctr style\u003d\"text-align: right;\"\u003e\n",
              "      \u003cth\u003e\u003c/th\u003e\n",
              "      \u003cth\u003euser_id\u003c/th\u003e\n",
              "      \u003cth\u003eseller_id\u003c/th\u003e\n",
              "    \u003c/tr\u003e\n",
              "  \u003c/thead\u003e\n",
              "  \u003ctbody\u003e\n",
              "  \u003c/tbody\u003e\n",
              "\u003c/table\u003e\n",
              "\u003c/div\u003e"
            ],
            "text/plain": [
              "Empty DataFrame\n",
              "Columns: [user_id, seller_id]\n",
              "Index: []"
            ]
          },
          "execution_count": 7,
          "metadata": {},
          "output_type": "execute_result"
        }
      ],
      "source": [
        "logs[logs[\"seller_id\"] \u003d\u003d 4995]"
      ]
    },
    {
      "cell_type": "code",
      "execution_count": 8,
      "metadata": {
        "pycharm": {}
      },
      "outputs": [],
      "source": [
        "a \u003d logs.groupby([\"user_id\", \"seller_id\"]).size().reset_index(name\u003d\u0027counts\u0027)"
      ]
    },
    {
      "cell_type": "code",
      "execution_count": 9,
      "metadata": {
        "scrolled": false,
        "pycharm": {}
      },
      "outputs": [],
      "source": [
        "data \u003d a.values"
      ]
    },
    {
      "cell_type": "code",
      "execution_count": 11,
      "metadata": {
        "pycharm": {}
      },
      "outputs": [],
      "source": [
        "shape \u003d (len(set(logs[\"user_id\"])), len(set(logs[\"seller_id\"])))"
      ]
    },
    {
      "cell_type": "code",
      "execution_count": 12,
      "metadata": {
        "scrolled": true,
        "pycharm": {}
      },
      "outputs": [],
      "source": [
        "matrix \u003d np.zeros(shape,dtype\u003dnp.int8)"
      ]
    },
    {
      "cell_type": "code",
      "execution_count": 14,
      "metadata": {
        "pycharm": {}
      },
      "outputs": [],
      "source": [
        "for user, item, rating in data:\n",
        "    matrix[user][item] \u003d rating # Convert to 0-based index."
      ]
    },
    {
      "cell_type": "code",
      "execution_count": 17,
      "metadata": {
        "pycharm": {}
      },
      "outputs": [
        {
          "data": {
            "text/plain": [
              "3"
            ]
          },
          "execution_count": 17,
          "metadata": {},
          "output_type": "execute_result"
        }
      ],
      "source": [
        "matrix[0].max()"
      ]
    },
    {
      "cell_type": "code",
      "execution_count": 25,
      "metadata": {
        "pycharm": {}
      },
      "outputs": [],
      "source": [
        "model \u003d NMF(n_components\u003d128,init\u003d\u0027nndsvd\u0027,solver\u003d\"cd\",  random_state\u003d0, verbose\u003dTrue)"
      ]
    },
    {
      "cell_type": "code",
      "execution_count": 26,
      "metadata": {
        "collapsed": true,
        "pycharm": {}
      },
      "outputs": [
        {
          "name": "stdout",
          "output_type": "stream",
          "text": [
            "violation: 1.0\n",
            "violation: 0.12538658587673746\n",
            "violation: 0.05118823441948356\n",
            "violation: 0.03107449957285507\n",
            "violation: 0.017956235131335336\n",
            "violation: 0.010062389003773656\n",
            "violation: 0.007396914053439068\n",
            "violation: 0.005945269928684492\n",
            "violation: 0.0037806247449645495\n",
            "violation: 0.00242892530216535\n",
            "violation: 0.0018479221420958215\n",
            "violation: 0.0015429228446343219\n",
            "violation: 0.0013655669683721844\n",
            "violation: 0.0012611743037637545\n",
            "violation: 0.0011977031408388816\n",
            "violation: 0.0011570436566337727\n",
            "violation: 0.001132131963364019\n",
            "violation: 0.0011057897761792453\n",
            "violation: 0.0010774835861777185\n",
            "violation: 0.0010378088074191796\n",
            "violation: 0.0009839995644523583\n",
            "violation: 0.0009183972532533445\n",
            "violation: 0.0008696866710489864\n",
            "violation: 0.0008354487205566968\n",
            "violation: 0.0007946851707431884\n",
            "violation: 0.0007443771930397123\n",
            "violation: 0.000692270916723232\n",
            "violation: 0.0006405450451171939\n",
            "violation: 0.0005917069378191303\n",
            "violation: 0.0005467627312572113\n",
            "violation: 0.0005043218794249318\n",
            "violation: 0.00046609097348121025\n",
            "violation: 0.00043054345859171183\n",
            "violation: 0.0004014177785444872\n",
            "violation: 0.00037633681263293914\n",
            "violation: 0.0003540403599826856\n",
            "violation: 0.00033503675593965065\n",
            "violation: 0.00031792713359616535\n",
            "violation: 0.0003023693516377074\n",
            "violation: 0.0002904250477229788\n",
            "violation: 0.0002800820937092645\n",
            "violation: 0.00027044759297570824\n",
            "violation: 0.00026125313120318257\n",
            "violation: 0.0002512835798446039\n",
            "violation: 0.00024116911441053235\n",
            "violation: 0.0002327167177420133\n",
            "violation: 0.00022674786082243963\n",
            "violation: 0.00022153134057502\n",
            "violation: 0.0002183507266232979\n",
            "violation: 0.0002151062785853289\n",
            "violation: 0.00021234540535366945\n",
            "violation: 0.00020988602139896932\n",
            "violation: 0.0002082829746359572\n",
            "violation: 0.0002079194035038818\n",
            "violation: 0.0002079331713312871\n",
            "violation: 0.0002069646845738839\n",
            "violation: 0.00020689741361004714\n",
            "violation: 0.00020795552975790043\n",
            "violation: 0.00020871893212994305\n",
            "violation: 0.0002096658948474925\n",
            "violation: 0.00020944921943277903\n",
            "violation: 0.00020891702594135934\n",
            "violation: 0.00020867807561280693\n",
            "violation: 0.0002080446249248001\n",
            "violation: 0.00020625227993877323\n",
            "violation: 0.0002039819020467372\n",
            "violation: 0.00020175109476481523\n",
            "violation: 0.00019885961347501494\n",
            "violation: 0.00019686927892885404\n",
            "violation: 0.00019451664856369946\n",
            "violation: 0.00019145889404330058\n",
            "violation: 0.00018930055533746248\n",
            "violation: 0.0001860551395174686\n",
            "violation: 0.00018154732794732406\n",
            "violation: 0.00017647678321642063\n",
            "violation: 0.0001657807839540467\n",
            "violation: 0.00015282164951168617\n",
            "violation: 0.00014567100574195235\n",
            "violation: 0.0001383457933463445\n",
            "violation: 0.0001313794156366075\n",
            "violation: 0.00012485210030145578\n",
            "violation: 0.00011855232786351535\n",
            "violation: 0.00011253959859455359\n",
            "violation: 0.0001067868999808315\n",
            "violation: 0.00010102881724738689\n",
            "violation: 9.510428611933648e-05\n",
            "Converged at iteration 86\n"
          ]
        }
      ],
      "source": [
        "x \u003d model.fit_transform(matrix)"
      ]
    },
    {
      "cell_type": "code",
      "execution_count": 27,
      "metadata": {
        "pycharm": {}
      },
      "outputs": [
        {
          "data": {
            "text/plain": [
              "(128, 4995)"
            ]
          },
          "execution_count": 27,
          "metadata": {},
          "output_type": "execute_result"
        }
      ],
      "source": [
        "model.components_.shape"
      ]
    },
    {
      "cell_type": "code",
      "execution_count": 36,
      "metadata": {
        "scrolled": true,
        "pycharm": {}
      },
      "outputs": [],
      "source": [
        "pd.DataFrame(data\u003dx, index\u003dreplace[\"user_id\"].keys(), columns\u003drange(x.shape[1])).to_csv(\n",
        "        os.path.join(get_root_path(), \"feature_vectors\", \"user_mf.csv\"),\n",
        "        float_format\u003d\u0027%.4f\u0027,\n",
        "        index_label\u003d\"index\")"
      ]
    },
    {
      "cell_type": "code",
      "execution_count": 38,
      "metadata": {
        "pycharm": {}
      },
      "outputs": [],
      "source": [
        "pd.DataFrame(data\u003dmodel.components_.T, index\u003dreplace[\"seller_id\"].keys(), columns\u003drange(model.components_.shape[0])).to_csv(\n",
        "        os.path.join(get_root_path(), \"feature_vectors\", \"seller_mf.csv\"),\n",
        "        float_format\u003d\u0027%.4f\u0027,\n",
        "        index_label\u003d\"index\")"
      ]
    },
    {
      "cell_type": "code",
      "execution_count": null,
      "metadata": {
        "pycharm": {}
      },
      "outputs": [],
      "source": []
    }
  ],
  "metadata": {
    "kernelspec": {
      "display_name": "Python 3",
      "language": "python",
      "name": "python3"
    },
    "language_info": {
      "codemirror_mode": {
        "name": "ipython",
        "version": 3
      },
      "file_extension": ".py",
      "mimetype": "text/x-python",
      "name": "python",
      "nbconvert_exporter": "python",
      "pygments_lexer": "ipython3",
      "version": "3.6.7"
    }
  },
  "nbformat": 4,
  "nbformat_minor": 2
}