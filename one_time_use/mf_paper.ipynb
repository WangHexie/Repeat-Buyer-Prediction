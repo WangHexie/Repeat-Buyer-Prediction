{
  "cells": [
    {
      "cell_type": "code",
      "execution_count": 1,
      "metadata": {
        "collapsed": true,
        "pycharm": {}
      },
      "outputs": [],
      "source": "import numpy as np\nimport pandas as pd\nimport os\nfrom basic_function import get_train_log, choose_logs_in_train_and_test, get_root_path\nfrom collections import OrderedDict\nfrom sklearn.decomposition import NMF"
    },
    {
      "cell_type": "code",
      "execution_count": 2,
      "outputs": [],
      "source": "def get_mf_log(row_number\u003dNone) -\u003e pd.DataFrame:\n    \"\"\"\n    返回log文件，\n    :param row_number: 需要读取的行数\n    :return: 返回DataFrame格式\n    \"\"\"\n    df \u003d pd.read_csv(os.path.join(get_root_path(), \"data\", \"data_format2\", \"train_format2.csv\"), nrows\u003drow_number)\n    return df",
      "metadata": {
        "pycharm": {
          "metadata": false,
          "name": "#%%\n"
        }
      }
    },
    {
      "cell_type": "code",
      "execution_count": 3,
      "outputs": [],
      "source": "logs \u003d get_mf_log(None)\nlogs \u003d logs[[\"user_id\", \"merchant_id\", \"label\"]]",
      "metadata": {
        "pycharm": {
          "metadata": false,
          "name": "#%%\n"
        }
      }
    },
    {
      "cell_type": "code",
      "execution_count": 4,
      "outputs": [],
      "source": "name_list \u003d [\"user_id\",\"merchant_id\"]\nreplace \u003d OrderedDict({name_list[i]: OrderedDict(\n    zip(set(logs.loc[:, name_list[i]].values), list(range(len(set(logs.loc[:, name_list[i]].values)))))) for i in range(len(name_list))})",
      "metadata": {
        "pycharm": {
          "metadata": false,
          "name": "#%%\n"
        }
      }
    },
    {
      "cell_type": "code",
      "execution_count": 5,
      "outputs": [],
      "source": "for i in range(len(name_list)):\n    logs[name_list[i]] \u003d logs[name_list[i]].map(replace[name_list[i]])",
      "metadata": {
        "pycharm": {
          "metadata": false,
          "name": "#%%\n"
        }
      }
    },
    {
      "cell_type": "code",
      "execution_count": 6,
      "outputs": [],
      "source": "shape \u003d (len(set(logs[\"user_id\"])), len(set(logs[\"merchant_id\"])))",
      "metadata": {
        "pycharm": {
          "metadata": false,
          "name": "#%%\n"
        }
      }
    },
    {
      "cell_type": "code",
      "execution_count": 7,
      "outputs": [],
      "source": "matrix \u003d np.zeros(shape,dtype\u003dnp.int8)",
      "metadata": {
        "pycharm": {
          "metadata": false,
          "name": "#%%\n"
        }
      }
    },
    {
      "cell_type": "code",
      "execution_count": 8,
      "outputs": [],
      "source": "for index, row in logs.iterrows():\n    matrix[row.user_id][row.merchant_id] \u003d 1 if row.label \u003d\u003d -1 else 0 # Convert to 0-based index.",
      "metadata": {
        "pycharm": {
          "metadata": false,
          "name": "#%%\n"
        }
      }
    },
    {
      "cell_type": "code",
      "execution_count": 9,
      "outputs": [],
      "source": "model \u003d NMF(n_components\u003d128,init\u003d\u0027nndsvd\u0027,solver\u003d\"cd\", verbose\u003dTrue)",
      "metadata": {
        "pycharm": {
          "metadata": false,
          "name": "#%%\n"
        }
      }
    },
    {
      "cell_type": "code",
      "execution_count": -1,
      "outputs": [
        {
          "name": "stdout",
          "text": [
            "violation: 1.0\n",
            "violation: 0.25524752769698195\n",
            "violation: 0.25756966378462304\n",
            "violation: 0.18545118082673995\n",
            "violation: 0.12034760661737304\n",
            "violation: 0.07449092317193498\n",
            "violation: 0.050479520963180154\n",
            "violation: 0.03929431045594313\n",
            "violation: 0.032053380090897844\n",
            "violation: 0.025974823724767573\n",
            "violation: 0.02140451294003561\n",
            "violation: 0.01798029169532753\n",
            "violation: 0.015422042647713654\n",
            "violation: 0.013289809426572095\n",
            "violation: 0.011619023441138803\n",
            "violation: 0.010315886211387511\n",
            "violation: 0.00931015021249895\n",
            "violation: 0.008549583911170363\n",
            "violation: 0.007935760938158584\n",
            "violation: 0.007366546873942939\n",
            "violation: 0.006836261207326669\n",
            "violation: 0.006354994009692901\n",
            "violation: 0.005945705698473507\n",
            "violation: 0.0055589530746132\n",
            "violation: 0.005197896828757574\n",
            "violation: 0.004831722735225539\n",
            "violation: 0.004488951244072921\n",
            "violation: 0.004173819189670543\n",
            "violation: 0.003892648101000784\n",
            "violation: 0.003644005061591702\n",
            "violation: 0.0034249513343210937\n",
            "violation: 0.0032442412008626834\n",
            "violation: 0.003095117660427401\n",
            "violation: 0.0029595593750244\n",
            "violation: 0.002825432632930139\n",
            "violation: 0.0026990207770083608\n",
            "violation: 0.00259850996571237\n",
            "violation: 0.002493505887667931\n",
            "violation: 0.0023889354647561975\n",
            "violation: 0.002275111090373079\n",
            "violation: 0.002152540653674403\n",
            "violation: 0.0020228505334532413\n",
            "violation: 0.0018862056387574373\n",
            "violation: 0.0017507773175183402\n",
            "violation: 0.0016156679447939782\n",
            "violation: 0.001481620537190484\n",
            "violation: 0.0013537624014236126\n",
            "violation: 0.0012357164128322363\n",
            "violation: 0.001129252435289253\n",
            "violation: 0.0010302696683831454\n",
            "violation: 0.0009425188440795025\n",
            "violation: 0.000864899125198331\n",
            "violation: 0.0007960962317518055\n",
            "violation: 0.0007351878455519038\n",
            "violation: 0.0006805075560426382\n",
            "violation: 0.0006315154053780514\n",
            "violation: 0.0005870997785936146\n",
            "violation: 0.0005467739071109317\n",
            "violation: 0.000510965185268324\n",
            "violation: 0.0004783313388087315\n",
            "violation: 0.0004487544588332152\n",
            "violation: 0.00042219026632692706\n",
            "violation: 0.0003980271297861013\n",
            "violation: 0.000375450240720617\n",
            "violation: 0.0003553527877866574\n",
            "violation: 0.0003375413630699644\n",
            "violation: 0.0003217500009259266\n",
            "violation: 0.000307459671961994\n",
            "violation: 0.0002944746087751823\n",
            "violation: 0.00028297070605301413\n",
            "violation: 0.00027250610352440524\n",
            "violation: 0.000262738787793565\n",
            "violation: 0.0002541069165838102\n",
            "violation: 0.0002450890391839609\n",
            "violation: 0.00023800160448118969\n",
            "violation: 0.0002310796517499958\n",
            "violation: 0.00022553831662944717\n",
            "violation: 0.00022026918601568985\n",
            "violation: 0.00021507131445355014\n",
            "violation: 0.00020981225025864394\n",
            "violation: 0.00020442250950432103\n",
            "violation: 0.0001988959903030013\n",
            "violation: 0.00019320956312030417\n",
            "violation: 0.00018737484915298618\n",
            "violation: 0.00018142026835708371\n",
            "violation: 0.00017533125348259158\n",
            "violation: 0.00016920304894301296\n",
            "violation: 0.00016306063091995886\n",
            "violation: 0.00015687597448025805\n",
            "violation: 0.0001511944176961823\n",
            "violation: 0.00014546798740720885\n",
            "violation: 0.0001399181948793954\n",
            "violation: 0.00013463663455384454\n",
            "violation: 0.00012982900624121437\n",
            "violation: 0.00012588751200871647\n",
            "violation: 0.00012247154477167346\n",
            "violation: 0.00012012372303305087\n",
            "violation: 0.0001178891396263524\n",
            "violation: 0.00011502303716728291\n",
            "violation: 0.00011165722712933989\n",
            "violation: 0.00010869926640216535\n",
            "violation: 0.00010616671049196737\n",
            "violation: 0.00010425522245176963\n",
            "violation: 0.00010277060955308129\n",
            "violation: 0.00010162686144398443\n",
            "violation: 0.00010104023120827926\n",
            "violation: 0.00010091358464484053\n",
            "violation: 0.00010125512984333757\n",
            "violation: 0.00010207008859229243\n",
            "violation: 0.00010330393848156696\n",
            "violation: 0.00010494357541946955\n",
            "violation: 0.00010699607211062116\n",
            "violation: 0.00010942662864156387\n",
            "violation: 0.00011228057288545159\n",
            "violation: 0.00011548620627094242\n",
            "violation: 0.00011931293792951635\n",
            "violation: 0.0001235844011082472\n",
            "violation: 0.00012823494591376636\n",
            "violation: 0.00013346985543185528\n",
            "violation: 0.00013956203642442167\n",
            "violation: 0.0001464080199653021\n",
            "violation: 0.00015440880161132615\n",
            "violation: 0.00016372829354629987\n",
            "violation: 0.00017415661572155265\n",
            "violation: 0.0001858062617780258\n",
            "violation: 0.00019893665120405564\n",
            "violation: 0.00021393270796703253\n",
            "violation: 0.00023085169146697853\n",
            "violation: 0.0002510169392929982\n",
            "violation: 0.00027410801790588577\n",
            "violation: 0.00030012357555716455\n",
            "violation: 0.00032972437729934415\n",
            "violation: 0.00037310665189247815\n",
            "violation: 0.0004319841751036848\n",
            "violation: 0.0005142680596563592\n",
            "violation: 0.000632279579668288\n",
            "violation: 0.0008046900150148771\n",
            "violation: 0.0010591690524986228\n",
            "violation: 0.0013918820622286373\n",
            "violation: 0.0017232587184054906\n",
            "violation: 0.0018056521068326294\n",
            "violation: 0.0015110231045528419\n",
            "violation: 0.0010265216461686692\n",
            "violation: 0.0006737233341829067\n",
            "violation: 0.0004757509642116217\n",
            "violation: 0.00036075801265783006\n",
            "violation: 0.0003080781772837417\n",
            "violation: 0.0002967284472733191\n",
            "violation: 0.0002984756142984328\n",
            "violation: 0.00030833647973060874\n",
            "violation: 0.0003259809226515606\n",
            "violation: 0.00035059032548611887\n",
            "violation: 0.0003823646268066188\n",
            "violation: 0.0004226679125779914\n",
            "violation: 0.00047192387536229303\n",
            "violation: 0.0005345400651104324\n",
            "violation: 0.0006141165034861965\n",
            "violation: 0.0007126076125609113\n",
            "violation: 0.0008355999437212253\n",
            "violation: 0.0009814327194731627\n",
            "violation: 0.0011394031911885643\n",
            "violation: 0.0012829438085815077\n",
            "violation: 0.0013739175045793227\n",
            "violation: 0.0013767194536880951\n",
            "violation: 0.0012968120286224452\n",
            "violation: 0.0011276029981603301\n"
          ],
          "output_type": "stream"
        }
      ],
      "source": "x \u003d model.fit_transform(matrix)",
      "metadata": {
        "pycharm": {
          "metadata": false,
          "name": "#%%\n"
        }
      }
    },
    {
      "cell_type": "code",
      "execution_count": -1,
      "outputs": [],
      "source": "",
      "metadata": {
        "pycharm": {
          "metadata": false,
          "name": "#%%\n"
        }
      }
    }
  ],
  "metadata": {
    "language_info": {
      "codemirror_mode": {
        "name": "ipython",
        "version": 2
      },
      "file_extension": ".py",
      "mimetype": "text/x-python",
      "name": "python",
      "nbconvert_exporter": "python",
      "pygments_lexer": "ipython2",
      "version": "2.7.6"
    },
    "kernelspec": {
      "name": "python3",
      "language": "python",
      "display_name": "Python 3"
    }
  },
  "nbformat": 4,
  "nbformat_minor": 0
}